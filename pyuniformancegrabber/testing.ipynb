{
 "cells": [
  {
   "cell_type": "code",
   "execution_count": 7,
   "metadata": {},
   "outputs": [
    {
     "ename": "NotSupportedError",
     "evalue": "DPY-3015: password verifier type 0x939 is not supported by python-oracledb in thin mode",
     "output_type": "error",
     "traceback": [
      "\u001b[1;31m---------------------------------------------------------------------------\u001b[0m",
      "\u001b[1;31mNotSupportedError\u001b[0m                         Traceback (most recent call last)",
      "\u001b[1;32mc:\\Users\\jheywoo\\Programming Projects\\Python Projects\\pyuniformancegrabber\\pyuniformancegrabber\\testing.ipynb Cell 1\u001b[0m line \u001b[0;36m3\n\u001b[0;32m      <a href='vscode-notebook-cell:/c%3A/Users/jheywoo/Programming%20Projects/Python%20Projects/pyuniformancegrabber/pyuniformancegrabber/testing.ipynb#W0sZmlsZQ%3D%3D?line=0'>1</a>\u001b[0m \u001b[39mimport\u001b[39;00m \u001b[39moracledb\u001b[39;00m\n\u001b[1;32m----> <a href='vscode-notebook-cell:/c%3A/Users/jheywoo/Programming%20Projects/Python%20Projects/pyuniformancegrabber/pyuniformancegrabber/testing.ipynb#W0sZmlsZQ%3D%3D?line=2'>3</a>\u001b[0m connection \u001b[39m=\u001b[39m oracledb\u001b[39m.\u001b[39;49mconnect(user\u001b[39m=\u001b[39;49m\u001b[39m\"\u001b[39;49m\u001b[39mPHD_READONLY\u001b[39;49m\u001b[39m\"\u001b[39;49m, password\u001b[39m=\u001b[39;49m\u001b[39m\"\u001b[39;49m\u001b[39mPHD_READONLY\u001b[39;49m\u001b[39m\"\u001b[39;49m,\n\u001b[0;32m      <a href='vscode-notebook-cell:/c%3A/Users/jheywoo/Programming%20Projects/Python%20Projects/pyuniformancegrabber/pyuniformancegrabber/testing.ipynb#W0sZmlsZQ%3D%3D?line=3'>4</a>\u001b[0m                               host\u001b[39m=\u001b[39;49m\u001b[39m\"\u001b[39;49m\u001b[39mMALOCL1\u001b[39;49m\u001b[39m\"\u001b[39;49m, port\u001b[39m=\u001b[39;49m\u001b[39m1521\u001b[39;49m, sid\u001b[39m=\u001b[39;49m\u001b[39m\"\u001b[39;49m\u001b[39mRESS\u001b[39;49m\u001b[39m\"\u001b[39;49m)\n",
      "File \u001b[1;32mc:\\Users\\jheywoo\\AppData\\Local\\mambaforge\\envs\\uniformance\\Lib\\site-packages\\oracledb\\connection.py:1020\u001b[0m, in \u001b[0;36m_connection_factory.<locals>.connect\u001b[1;34m(dsn, pool, conn_class, params, **kwargs)\u001b[0m\n\u001b[0;32m   1018\u001b[0m \u001b[39mif\u001b[39;00m \u001b[39mnot\u001b[39;00m \u001b[39missubclass\u001b[39m(conn_class, Connection):\n\u001b[0;32m   1019\u001b[0m     errors\u001b[39m.\u001b[39m_raise_err(errors\u001b[39m.\u001b[39mERR_INVALID_CONN_CLASS)\n\u001b[1;32m-> 1020\u001b[0m \u001b[39mreturn\u001b[39;00m conn_class(dsn\u001b[39m=\u001b[39;49mdsn, pool\u001b[39m=\u001b[39;49mpool, params\u001b[39m=\u001b[39;49mparams, \u001b[39m*\u001b[39;49m\u001b[39m*\u001b[39;49mkwargs)\n",
      "File \u001b[1;32mc:\\Users\\jheywoo\\AppData\\Local\\mambaforge\\envs\\uniformance\\Lib\\site-packages\\oracledb\\connection.py:130\u001b[0m, in \u001b[0;36mConnection.__init__\u001b[1;34m(self, dsn, pool, params, **kwargs)\u001b[0m\n\u001b[0;32m    128\u001b[0m     \u001b[39melse\u001b[39;00m:\n\u001b[0;32m    129\u001b[0m         impl \u001b[39m=\u001b[39m thin_impl\u001b[39m.\u001b[39mThinConnImpl(dsn, params_impl)\n\u001b[1;32m--> 130\u001b[0m         impl\u001b[39m.\u001b[39;49mconnect(params_impl)\n\u001b[0;32m    131\u001b[0m \u001b[39melse\u001b[39;00m:\n\u001b[0;32m    132\u001b[0m     impl \u001b[39m=\u001b[39m thick_impl\u001b[39m.\u001b[39mThickConnImpl(dsn, params_impl)\n",
      "File \u001b[1;32msrc\\\\oracledb\\\\impl/thin/connection.pyx:338\u001b[0m, in \u001b[0;36moracledb.thin_impl.ThinConnImpl.connect\u001b[1;34m()\u001b[0m\n",
      "File \u001b[1;32msrc\\\\oracledb\\\\impl/thin/connection.pyx:328\u001b[0m, in \u001b[0;36moracledb.thin_impl.ThinConnImpl.connect\u001b[1;34m()\u001b[0m\n",
      "File \u001b[1;32msrc\\\\oracledb\\\\impl/thin/connection.pyx:215\u001b[0m, in \u001b[0;36moracledb.thin_impl.ThinConnImpl._connect_with_params\u001b[1;34m()\u001b[0m\n",
      "File \u001b[1;32msrc\\\\oracledb\\\\impl/thin/connection.pyx:186\u001b[0m, in \u001b[0;36moracledb.thin_impl.ThinConnImpl._connect_with_description\u001b[1;34m()\u001b[0m\n",
      "File \u001b[1;32msrc\\\\oracledb\\\\impl/thin/connection.pyx:127\u001b[0m, in \u001b[0;36moracledb.thin_impl.ThinConnImpl._connect_with_address\u001b[1;34m()\u001b[0m\n",
      "File \u001b[1;32msrc\\\\oracledb\\\\impl/thin/protocol.pyx:266\u001b[0m, in \u001b[0;36moracledb.thin_impl.Protocol._connect_phase_two\u001b[1;34m()\u001b[0m\n",
      "File \u001b[1;32msrc\\\\oracledb\\\\impl/thin/protocol.pyx:381\u001b[0m, in \u001b[0;36moracledb.thin_impl.Protocol._process_message\u001b[1;34m()\u001b[0m\n",
      "File \u001b[1;32msrc\\\\oracledb\\\\impl/thin/protocol.pyx:358\u001b[0m, in \u001b[0;36moracledb.thin_impl.Protocol._process_message\u001b[1;34m()\u001b[0m\n",
      "File \u001b[1;32msrc\\\\oracledb\\\\impl/thin/messages.pyx:297\u001b[0m, in \u001b[0;36moracledb.thin_impl.Message.send\u001b[1;34m()\u001b[0m\n",
      "File \u001b[1;32msrc\\\\oracledb\\\\impl/thin/messages.pyx:1597\u001b[0m, in \u001b[0;36moracledb.thin_impl.AuthMessage._write_message\u001b[1;34m()\u001b[0m\n",
      "File \u001b[1;32mc:\\Users\\jheywoo\\AppData\\Local\\mambaforge\\envs\\uniformance\\Lib\\site-packages\\oracledb\\errors.py:127\u001b[0m, in \u001b[0;36m_raise_err\u001b[1;34m(error_num, context_error_message, cause, **args)\u001b[0m\n\u001b[0;32m    125\u001b[0m     message \u001b[39m=\u001b[39m \u001b[39mf\u001b[39m\u001b[39m\"\u001b[39m\u001b[39m{\u001b[39;00mmessage\u001b[39m}\u001b[39;00m\u001b[39m\\n\u001b[39;00m\u001b[39m{\u001b[39;00mcontext_error_message\u001b[39m}\u001b[39;00m\u001b[39m\"\u001b[39m\n\u001b[0;32m    126\u001b[0m exc_type \u001b[39m=\u001b[39m ERR_EXCEPTION_TYPES[error_num \u001b[39m/\u001b[39m\u001b[39m/\u001b[39m \u001b[39m1000\u001b[39m]\n\u001b[1;32m--> 127\u001b[0m \u001b[39mraise\u001b[39;00m exc_type(_Error(message)) \u001b[39mfrom\u001b[39;00m \u001b[39mcause\u001b[39;00m\n",
      "\u001b[1;31mNotSupportedError\u001b[0m: DPY-3015: password verifier type 0x939 is not supported by python-oracledb in thin mode"
     ]
    }
   ],
   "source": [
    "import oracledb\n",
    "\n",
    "connection = oracledb.connect(user=\"PHD_READONLY\", password=\"PHD_READONLY\",\n",
    "                              host=\"MALOCL1\", port=1521, sid=\"RESS\")"
   ]
  },
  {
   "cell_type": "code",
   "execution_count": 22,
   "metadata": {},
   "outputs": [],
   "source": [
    "import grabber\n",
    "\n",
    "a = grabber.uniformance('MALSHW1')\n",
    "a.show_parameters()"
   ]
  }
 ],
 "metadata": {
  "kernelspec": {
   "display_name": "uniformance",
   "language": "python",
   "name": "python3"
  },
  "language_info": {
   "codemirror_mode": {
    "name": "ipython",
    "version": 3
   },
   "file_extension": ".py",
   "mimetype": "text/x-python",
   "name": "python",
   "nbconvert_exporter": "python",
   "pygments_lexer": "ipython3",
   "version": "3.11.5"
  }
 },
 "nbformat": 4,
 "nbformat_minor": 2
}
