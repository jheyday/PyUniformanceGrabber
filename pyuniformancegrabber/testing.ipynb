{
 "cells": [
  {
   "cell_type": "code",
   "execution_count": 3,
   "metadata": {},
   "outputs": [
    {
     "name": "stdout",
     "output_type": "stream",
     "text": [
      "A.RL_AI7361.BATCH added to taglist\n",
      "A.RL_AI7361.GRADE added to taglist\n"
     ]
    }
   ],
   "source": [
    "from pyuniformancegrabber import uniformance\n",
    "#Uniformance can also be provided hostname, port, username, password\n",
    "#By default port=3000, username='', password=''\n",
    "a = uniformance(\"MALSHW1\")\n",
    "#tags can be added either individually or as a list\n",
    "a.add_tag('A.RL_AI7361.BATCH')\n",
    "a.add_tag('A.RL_AI7361.GRADE')\n",
    "\n",
    "a.add_tag(['A.RL_AI7361.BATCH','A.RL_AI7361.GRADE'])\n",
    "\n",
    "#You can check if a tag exists at the host with \n",
    "a.check_tag('A.RL_AI7361.GRADE')\n",
    "\n",
    "#show_tags will return a list of tags\n",
    "a.show_tags()\n",
    "\n",
    "# A number of parameters can be controlled when grabbing data\n",
    "#all server parameters and sample parameters can be viewed with\n",
    "a.show_parameters()\n",
    "\n",
    "#Start and end time take a wide range of formats from dd/mm/yyyy, to a string with format NOW-1D\n",
    "a.set_starttime('NOW-1D')\n",
    "a.set_endtime('NOW')\n",
    "\n",
    "#Sampling Frequency\n",
    "#Honeywell offer a range of sample type \"Snapshot\", \"Average\", \"Resampled\", \"Raw\", \"InterpolatedRaw\".\n",
    "#If using a type which supports setting sample frequency,\n",
    "#ensure use samplefrequency is set to true and sampletype supports the action\n",
    "a.set_useSampleFrequency(False)\n",
    "a.set_SampleFrequency('60')\n",
    "a.set_SampleType('Raw')\n",
    "\n",
    "#Other parameters\n",
    "a.set_ReductionFrequency('60')\n",
    "a.set_ReductionOffset('Around')\n",
    "a.set_ReductionType('None')\n",
    "\n",
    "#get_results returns a list of dataframes, where each dataframe contains the results for one tag\n",
    "m= a.get_results()"
   ]
  },
  {
   "cell_type": "code",
   "execution_count": 4,
   "metadata": {},
   "outputs": [
    {
     "data": {
      "text/plain": [
       "[             TagName                  TimeStamp  Value  Confidence HostName  \\\n",
       " 0  A.RL_AI7361.BATCH  2023-10-19T12:00:00+11:00   8370         100  MALSHW1   \n",
       " 1  A.RL_AI7361.BATCH  2023-10-19T17:30:00+11:00   8374         100  MALSHW1   \n",
       " 2  A.RL_AI7361.BATCH  2023-10-19T22:45:00+11:00   8378         100  MALSHW1   \n",
       " 3  A.RL_AI7361.BATCH  2023-10-20T04:10:00+11:00   8382         100  MALSHW1   \n",
       " 4  A.RL_AI7361.BATCH  2023-10-20T09:40:00+11:00   8386         100  MALSHW1   \n",
       " \n",
       "    Units  \n",
       " 0    NaN  \n",
       " 1    NaN  \n",
       " 2    NaN  \n",
       " 3    NaN  \n",
       " 4    NaN  ,\n",
       "              TagName                  TimeStamp   Value  Confidence HostName  \\\n",
       " 0  A.RL_AI7361.GRADE  2023-10-19T12:00:00+11:00  HDF193         100  MALSHW1   \n",
       " 1  A.RL_AI7361.GRADE  2023-10-19T17:30:00+11:00  HDF193         100  MALSHW1   \n",
       " 2  A.RL_AI7361.GRADE  2023-10-19T22:45:00+11:00  HDF193         100  MALSHW1   \n",
       " 3  A.RL_AI7361.GRADE  2023-10-20T04:10:00+11:00  HDF193         100  MALSHW1   \n",
       " 4  A.RL_AI7361.GRADE  2023-10-20T09:40:00+11:00  GF7660         100  MALSHW1   \n",
       " \n",
       "    Units  \n",
       " 0    NaN  \n",
       " 1    NaN  \n",
       " 2    NaN  \n",
       " 3    NaN  \n",
       " 4    NaN  ]"
      ]
     },
     "execution_count": 4,
     "metadata": {},
     "output_type": "execute_result"
    }
   ],
   "source": [
    "m"
   ]
  },
  {
   "cell_type": "code",
   "execution_count": null,
   "metadata": {},
   "outputs": [],
   "source": []
  },
  {
   "cell_type": "code",
   "execution_count": null,
   "metadata": {},
   "outputs": [],
   "source": []
  }
 ],
 "metadata": {
  "kernelspec": {
   "display_name": "uniformance",
   "language": "python",
   "name": "python3"
  },
  "language_info": {
   "codemirror_mode": {
    "name": "ipython",
    "version": 3
   },
   "file_extension": ".py",
   "mimetype": "text/x-python",
   "name": "python",
   "nbconvert_exporter": "python",
   "pygments_lexer": "ipython3",
   "version": "3.11.5"
  }
 },
 "nbformat": 4,
 "nbformat_minor": 2
}
